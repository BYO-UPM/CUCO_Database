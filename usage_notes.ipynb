{
 "cells": [
  {
   "cell_type": "code",
   "execution_count": 2,
   "metadata": {},
   "outputs": [],
   "source": [
    "# Imports\n",
    "\n",
    "import os\n",
    "import numpy as np\n",
    "import pandas as pd\n",
    "import librosa\n",
    "import librosa.display\n",
    "import matplotlib.pyplot as plt\n",
    "import IPython.display as ipd\n"
   ]
  },
  {
   "cell_type": "code",
   "execution_count": 20,
   "metadata": {},
   "outputs": [],
   "source": [
    "# Audio files are stored in the following directory:\n",
    "# data/data_final/audios/Contr\n",
    "# data/data_final/audios/FESS\n",
    "# data/data_final/audios/Sept\n",
    "# data/data_final/audios/Tonsill\n",
    "\n",
    "# Get all .wav audios from all the directories\n",
    "path_to_audios = 'data/data_final/Audios'\n",
    "audios = []\n",
    "for root, dirs, files in os.walk(path_to_audios):\n",
    "    for name in files:\n",
    "        if name.endswith('.wav'):\n",
    "            audios.append(os.path.join(root, name))\n"
   ]
  },
  {
   "cell_type": "code",
   "execution_count": 21,
   "metadata": {},
   "outputs": [],
   "source": [
    "# The following code will load the audio files:\n",
    "def read_audio(path):\n",
    "    y, sr = librosa.load(path, sr=44100)\n",
    "    return y, sr\n",
    "\n",
    "df = pd.DataFrame(columns=['audiopath','audio_raw','label'])\n",
    "df['audiopath'] = audios\n",
    "# Get SR and audio in two columns\n",
    "df[['audio_raw', 'sr']] = df['audiopath'].apply(lambda x: pd.Series(read_audio(x)))\n",
    "df['label'] = df['audiopath'].apply(lambda x: x.split('/')[3])"
   ]
  },
  {
   "cell_type": "code",
   "execution_count": 22,
   "metadata": {},
   "outputs": [],
   "source": [
    "# Normalise the audios\n",
    "\n",
    "def normalize_audio(audio):\n",
    "    audio = audio / np.max(np.abs(audio))\n",
    "    return audio\n",
    "\n",
    "df['audio'] = df['audio_raw'].apply(lambda x: normalize_audio(x))"
   ]
  },
  {
   "cell_type": "code",
   "execution_count": 23,
   "metadata": {},
   "outputs": [],
   "source": [
    "# Get a new column with the session number extracted from the audio path\n",
    "df['session'] = df['audiopath'].apply(lambda x: x.split('/')[5])"
   ]
  },
  {
   "cell_type": "code",
   "execution_count": 24,
   "metadata": {},
   "outputs": [],
   "source": [
    "# Drop all rows which have session aeiou, or concatenateread or tests\n",
    "df = df[~df['session'].isin(['aeiou', 'concatenateread', 'tests'])]"
   ]
  },
  {
   "cell_type": "code",
   "execution_count": 25,
   "metadata": {},
   "outputs": [],
   "source": [
    "# Calculate mfccs\n",
    "def extract_mfcc_with_derivatives(\n",
    "       audio, sample_rate, frame_length_ms, n_mfcc=10\n",
    "    ):\n",
    "        \"\"\"\n",
    "        Extracts Mel-frequency cepstral coefficients (MFCCs) with their first and second derivatives from an audio signal.\n",
    "\n",
    "        Args:\n",
    "            audio (np.ndarray): The audio signal as a 1D numpy array.\n",
    "            sample_rate (int): The sample rate of the audio signal.\n",
    "            frame_length_ms (float): The length of the frames in milliseconds.\n",
    "            n_mfcc (int): The number of MFCCs to extract.\n",
    "\n",
    "        Returns:\n",
    "            np.ndarray: A 2D numpy array of shape (num_frames, num_features) containing the MFCCs and their derivatives.\n",
    "        \"\"\"\n",
    "        frame_length = int(\n",
    "            sample_rate * frame_length_ms * 1e-3\n",
    "        )  # Convert ms to samples\n",
    "        hop_length = int(frame_length / 2)  # 50% overlap\n",
    "        frames = librosa.util.frame(\n",
    "            audio, frame_length=frame_length, hop_length=hop_length\n",
    "        )\n",
    "\n",
    "        # Apply hanning windows\n",
    "        frames = frames * np.hanning(frame_length)[:, None]\n",
    "\n",
    "        # N_fft is the next number in power of 2 of the frame size\n",
    "        n_fft = 2 ** (int(np.log2(frames.shape[1])) + 1)\n",
    "\n",
    "        # Compute MFCC for each frame\n",
    "        mfccs = []\n",
    "        for frame in frames.T:\n",
    "            mfcc = librosa.feature.mfcc(\n",
    "                y=frame, sr=sample_rate, n_mfcc=n_mfcc, n_fft=n_fft\n",
    "            )\n",
    "            # Normalize the MFCCs\n",
    "            mfccs.append(mfcc.T)\n",
    "\n",
    "        mfccs = np.vstack(mfccs)\n",
    "\n",
    "        # Normalize the MFCCs\n",
    "        mfccs = (mfccs - np.mean(mfccs, axis=0)) / np.std(mfccs, axis=0)\n",
    "\n",
    "        # Compute derivatives\n",
    "        mfccs_delta = librosa.feature.delta(mfccs)\n",
    "        mfccs_delta2 = librosa.feature.delta(mfccs, order=2)\n",
    "\n",
    "        # Concatenate the features\n",
    "        mfcc_features = np.concatenate((mfccs, mfccs_delta, mfccs_delta2), axis=1)\n",
    "\n",
    "        return mfcc_features"
   ]
  },
  {
   "attachments": {
    "image.png": {
     "image/png": "[encoded data removed]"
    }
   },
   "cell_type": "markdown",
   "metadata": {},
   "source": [
    "## COMPUTING MFCCS\n",
    "\n",
    "Care, this requires time to compute. It took 11 min and 10.5 secs to compute in a computer with the following specs:\n",
    "\n",
    "![image.png](attachment:image.png)"
   ]
  },
  {
   "cell_type": "code",
   "execution_count": 41,
   "metadata": {},
   "outputs": [
    {
     "name": "stderr",
     "output_type": "stream",
     "text": [
      "/tmp/ipykernel_997/3674064886.py:4: SettingWithCopyWarning: \n",
      "A value is trying to be set on a copy of a slice from a DataFrame.\n",
      "Try using .loc[row_indexer,col_indexer] = value instead\n",
      "\n",
      "See the caveats in the documentation: https://pandas.pydata.org/pandas-docs/stable/user_guide/indexing.html#returning-a-view-versus-a-copy\n",
      "  df_first_session['Audio Material'] = df_first_session['audiopath'].apply(lambda x: x.split('/')[4])\n"
     ]
    }
   ],
   "source": [
    "df_first_session = df[df['session'] == '1']\n",
    "\n",
    "# Create a column named \"Audio Material\" which will contain the audio name wih is the [4] index of the path\n",
    "df_first_session['Audio Material'] = df_first_session['audiopath'].apply(lambda x: x.split('/')[4])"
   ]
  },
  {
   "cell_type": "code",
   "execution_count": 43,
   "metadata": {},
   "outputs": [
    {
     "name": "stderr",
     "output_type": "stream",
     "text": [
      "/home/alexjorguer/miniconda3/lib/python3.11/site-packages/librosa/feature/spectral.py:2143: UserWarning: Empty filters detected in mel frequency basis. Some channels will produce empty responses. Try increasing your sampling rate (and fmax) or reducing n_mels.\n",
      "  mel_basis = filters.mel(sr=sr, n_fft=n_fft, **kwargs)\n"
     ]
    }
   ],
   "source": [
    "# Select only the \"A\" vowel from the first session\n",
    "df_first_session = df_first_session[df_first_session['Audio Material'] == 'A3']\n",
    "\n",
    "# Calculate the MFCCs for the first session\n",
    "df_first_session[\"mfccs\"] = df_first_session.apply(\n",
    "                lambda x: extract_mfcc_with_derivatives(\n",
    "                    x[\"audio\"],\n",
    "                    x[\"sr\"],\n",
    "                    40,\n",
    "                    13,\n",
    "                ),\n",
    "                axis=1,\n",
    "            )"
   ]
  },
  {
   "cell_type": "code",
   "execution_count": 44,
   "metadata": {},
   "outputs": [],
   "source": [
    "# Explode the mfccs column\n",
    "df_first_session = df_first_session.explode('mfccs')\n"
   ]
  },
  {
   "cell_type": "code",
   "execution_count": 45,
   "metadata": {},
   "outputs": [
    {
     "data": {
      "text/html": [
       "<div>\n",
       "<style scoped>\n",
       "    .dataframe tbody tr th:only-of-type {\n",
       "        vertical-align: middle;\n",
       "    }\n",
       "\n",
       "    .dataframe tbody tr th {\n",
       "        vertical-align: top;\n",
       "    }\n",
       "\n",
       "    .dataframe thead th {\n",
       "        text-align: right;\n",
       "    }\n",
       "</style>\n",
       "<table border=\"1\" class=\"dataframe\">\n",
       "  <thead>\n",
       "    <tr style=\"text-align: right;\">\n",
       "      <th></th>\n",
       "      <th>audiopath</th>\n",
       "      <th>audio_raw</th>\n",
       "      <th>label</th>\n",
       "      <th>sr</th>\n",
       "      <th>audio</th>\n",
       "      <th>session</th>\n",
       "      <th>Audio Material</th>\n",
       "      <th>mfccs</th>\n",
       "    </tr>\n",
       "  </thead>\n",
       "  <tbody>\n",
       "    <tr>\n",
       "      <th>493</th>\n",
       "      <td>data/data_final/Audios/Sept/A3/1/Sept_ses1_a3_...</td>\n",
       "      <td>[0.0014343262, -0.0014953613, -0.004425049, -0...</td>\n",
       "      <td>Sept</td>\n",
       "      <td>44100</td>\n",
       "      <td>[0.008212476, -0.008561943, -0.025336362, -0.0...</td>\n",
       "      <td>1</td>\n",
       "      <td>A3</td>\n",
       "      <td>[-1.030343833955165, -0.005154313320571642, 1....</td>\n",
       "    </tr>\n",
       "    <tr>\n",
       "      <th>493</th>\n",
       "      <td>data/data_final/Audios/Sept/A3/1/Sept_ses1_a3_...</td>\n",
       "      <td>[0.0014343262, -0.0014953613, -0.004425049, -0...</td>\n",
       "      <td>Sept</td>\n",
       "      <td>44100</td>\n",
       "      <td>[0.008212476, -0.008561943, -0.025336362, -0.0...</td>\n",
       "      <td>1</td>\n",
       "      <td>A3</td>\n",
       "      <td>[0.8562518408556008, 0.1850353649052064, -0.89...</td>\n",
       "    </tr>\n",
       "    <tr>\n",
       "      <th>493</th>\n",
       "      <td>data/data_final/Audios/Sept/A3/1/Sept_ses1_a3_...</td>\n",
       "      <td>[0.0014343262, -0.0014953613, -0.004425049, -0...</td>\n",
       "      <td>Sept</td>\n",
       "      <td>44100</td>\n",
       "      <td>[0.008212476, -0.008561943, -0.025336362, -0.0...</td>\n",
       "      <td>1</td>\n",
       "      <td>A3</td>\n",
       "      <td>[1.3069059886249088, -0.8672618218556868, -1.3...</td>\n",
       "    </tr>\n",
       "    <tr>\n",
       "      <th>493</th>\n",
       "      <td>data/data_final/Audios/Sept/A3/1/Sept_ses1_a3_...</td>\n",
       "      <td>[0.0014343262, -0.0014953613, -0.004425049, -0...</td>\n",
       "      <td>Sept</td>\n",
       "      <td>44100</td>\n",
       "      <td>[0.008212476, -0.008561943, -0.025336362, -0.0...</td>\n",
       "      <td>1</td>\n",
       "      <td>A3</td>\n",
       "      <td>[-0.42522597290760933, 1.6368604098215747, 0.9...</td>\n",
       "    </tr>\n",
       "    <tr>\n",
       "      <th>493</th>\n",
       "      <td>data/data_final/Audios/Sept/A3/1/Sept_ses1_a3_...</td>\n",
       "      <td>[0.0014343262, -0.0014953613, -0.004425049, -0...</td>\n",
       "      <td>Sept</td>\n",
       "      <td>44100</td>\n",
       "      <td>[0.008212476, -0.008561943, -0.025336362, -0.0...</td>\n",
       "      <td>1</td>\n",
       "      <td>A3</td>\n",
       "      <td>[-0.07445987968237364, -0.6608084102119534, 1....</td>\n",
       "    </tr>\n",
       "    <tr>\n",
       "      <th>...</th>\n",
       "      <td>...</td>\n",
       "      <td>...</td>\n",
       "      <td>...</td>\n",
       "      <td>...</td>\n",
       "      <td>...</td>\n",
       "      <td>...</td>\n",
       "      <td>...</td>\n",
       "      <td>...</td>\n",
       "    </tr>\n",
       "    <tr>\n",
       "      <th>4130</th>\n",
       "      <td>data/data_final/Audios/Fess/A3/1/FESS_ses1_a3_...</td>\n",
       "      <td>[0.013397217, 0.010345459, 0.0064697266, 0.001...</td>\n",
       "      <td>Fess</td>\n",
       "      <td>44100</td>\n",
       "      <td>[0.047655232, 0.036799826, 0.023013461, 0.0064...</td>\n",
       "      <td>1</td>\n",
       "      <td>A3</td>\n",
       "      <td>[-0.410186168127654, 1.7215680596189311, -0.03...</td>\n",
       "    </tr>\n",
       "    <tr>\n",
       "      <th>4130</th>\n",
       "      <td>data/data_final/Audios/Fess/A3/1/FESS_ses1_a3_...</td>\n",
       "      <td>[0.013397217, 0.010345459, 0.0064697266, 0.001...</td>\n",
       "      <td>Fess</td>\n",
       "      <td>44100</td>\n",
       "      <td>[0.047655232, 0.036799826, 0.023013461, 0.0064...</td>\n",
       "      <td>1</td>\n",
       "      <td>A3</td>\n",
       "      <td>[-1.1908309473981986, -0.058525792132942296, 1...</td>\n",
       "    </tr>\n",
       "    <tr>\n",
       "      <th>4130</th>\n",
       "      <td>data/data_final/Audios/Fess/A3/1/FESS_ses1_a3_...</td>\n",
       "      <td>[0.013397217, 0.010345459, 0.0064697266, 0.001...</td>\n",
       "      <td>Fess</td>\n",
       "      <td>44100</td>\n",
       "      <td>[0.047655232, 0.036799826, 0.023013461, 0.0064...</td>\n",
       "      <td>1</td>\n",
       "      <td>A3</td>\n",
       "      <td>[0.5194339580312592, -0.5205214787103855, -0.6...</td>\n",
       "    </tr>\n",
       "    <tr>\n",
       "      <th>4130</th>\n",
       "      <td>data/data_final/Audios/Fess/A3/1/FESS_ses1_a3_...</td>\n",
       "      <td>[0.013397217, 0.010345459, 0.0064697266, 0.001...</td>\n",
       "      <td>Fess</td>\n",
       "      <td>44100</td>\n",
       "      <td>[0.047655232, 0.036799826, 0.023013461, 0.0064...</td>\n",
       "      <td>1</td>\n",
       "      <td>A3</td>\n",
       "      <td>[1.1514996669851312, -0.8139614468796627, -0.2...</td>\n",
       "    </tr>\n",
       "    <tr>\n",
       "      <th>4130</th>\n",
       "      <td>data/data_final/Audios/Fess/A3/1/FESS_ses1_a3_...</td>\n",
       "      <td>[0.013397217, 0.010345459, 0.0064697266, 0.001...</td>\n",
       "      <td>Fess</td>\n",
       "      <td>44100</td>\n",
       "      <td>[0.047655232, 0.036799826, 0.023013461, 0.0064...</td>\n",
       "      <td>1</td>\n",
       "      <td>A3</td>\n",
       "      <td>[-0.46410863532872804, 1.5062015583165551, 0.6...</td>\n",
       "    </tr>\n",
       "  </tbody>\n",
       "</table>\n",
       "<p>39252 rows × 8 columns</p>\n",
       "</div>"
      ],
      "text/plain": [
       "                                              audiopath  \\\n",
       "493   data/data_final/Audios/Sept/A3/1/Sept_ses1_a3_...   \n",
       "493   data/data_final/Audios/Sept/A3/1/Sept_ses1_a3_...   \n",
       "493   data/data_final/Audios/Sept/A3/1/Sept_ses1_a3_...   \n",
       "493   data/data_final/Audios/Sept/A3/1/Sept_ses1_a3_...   \n",
       "493   data/data_final/Audios/Sept/A3/1/Sept_ses1_a3_...   \n",
       "...                                                 ...   \n",
       "4130  data/data_final/Audios/Fess/A3/1/FESS_ses1_a3_...   \n",
       "4130  data/data_final/Audios/Fess/A3/1/FESS_ses1_a3_...   \n",
       "4130  data/data_final/Audios/Fess/A3/1/FESS_ses1_a3_...   \n",
       "4130  data/data_final/Audios/Fess/A3/1/FESS_ses1_a3_...   \n",
       "4130  data/data_final/Audios/Fess/A3/1/FESS_ses1_a3_...   \n",
       "\n",
       "                                              audio_raw label     sr  \\\n",
       "493   [0.0014343262, -0.0014953613, -0.004425049, -0...  Sept  44100   \n",
       "493   [0.0014343262, -0.0014953613, -0.004425049, -0...  Sept  44100   \n",
       "493   [0.0014343262, -0.0014953613, -0.004425049, -0...  Sept  44100   \n",
       "493   [0.0014343262, -0.0014953613, -0.004425049, -0...  Sept  44100   \n",
       "493   [0.0014343262, -0.0014953613, -0.004425049, -0...  Sept  44100   \n",
       "...                                                 ...   ...    ...   \n",
       "4130  [0.013397217, 0.010345459, 0.0064697266, 0.001...  Fess  44100   \n",
       "4130  [0.013397217, 0.010345459, 0.0064697266, 0.001...  Fess  44100   \n",
       "4130  [0.013397217, 0.010345459, 0.0064697266, 0.001...  Fess  44100   \n",
       "4130  [0.013397217, 0.010345459, 0.0064697266, 0.001...  Fess  44100   \n",
       "4130  [0.013397217, 0.010345459, 0.0064697266, 0.001...  Fess  44100   \n",
       "\n",
       "                                                  audio session  \\\n",
       "493   [0.008212476, -0.008561943, -0.025336362, -0.0...       1   \n",
       "493   [0.008212476, -0.008561943, -0.025336362, -0.0...       1   \n",
       "493   [0.008212476, -0.008561943, -0.025336362, -0.0...       1   \n",
       "493   [0.008212476, -0.008561943, -0.025336362, -0.0...       1   \n",
       "493   [0.008212476, -0.008561943, -0.025336362, -0.0...       1   \n",
       "...                                                 ...     ...   \n",
       "4130  [0.047655232, 0.036799826, 0.023013461, 0.0064...       1   \n",
       "4130  [0.047655232, 0.036799826, 0.023013461, 0.0064...       1   \n",
       "4130  [0.047655232, 0.036799826, 0.023013461, 0.0064...       1   \n",
       "4130  [0.047655232, 0.036799826, 0.023013461, 0.0064...       1   \n",
       "4130  [0.047655232, 0.036799826, 0.023013461, 0.0064...       1   \n",
       "\n",
       "     Audio Material                                              mfccs  \n",
       "493              A3  [-1.030343833955165, -0.005154313320571642, 1....  \n",
       "493              A3  [0.8562518408556008, 0.1850353649052064, -0.89...  \n",
       "493              A3  [1.3069059886249088, -0.8672618218556868, -1.3...  \n",
       "493              A3  [-0.42522597290760933, 1.6368604098215747, 0.9...  \n",
       "493              A3  [-0.07445987968237364, -0.6608084102119534, 1....  \n",
       "...             ...                                                ...  \n",
       "4130             A3  [-0.410186168127654, 1.7215680596189311, -0.03...  \n",
       "4130             A3  [-1.1908309473981986, -0.058525792132942296, 1...  \n",
       "4130             A3  [0.5194339580312592, -0.5205214787103855, -0.6...  \n",
       "4130             A3  [1.1514996669851312, -0.8139614468796627, -0.2...  \n",
       "4130             A3  [-0.46410863532872804, 1.5062015583165551, 0.6...  \n",
       "\n",
       "[39252 rows x 8 columns]"
      ]
     },
     "execution_count": 45,
     "metadata": {},
     "output_type": "execute_result"
    }
   ],
   "source": [
    "df_first_session"
   ]
  },
  {
   "cell_type": "markdown",
   "metadata": {},
   "source": [
    "## Simple classifier\n",
    "\n",
    "Let us generate a toy example where we want to distinguish control vs patients."
   ]
  },
  {
   "cell_type": "code",
   "execution_count": 46,
   "metadata": {},
   "outputs": [],
   "source": [
    "# First, get only the interesting columns: \"mfccs\", \"label\" and the index with is the id\n",
    "df_toy = df_first_session[[\"mfccs\", \"label\"]].reset_index()"
   ]
  },
  {
   "cell_type": "code",
   "execution_count": 47,
   "metadata": {},
   "outputs": [],
   "source": [
    "# Index column is the patient identification, hence, split into train and test based on this column so the same patient is not in both\n",
    "df_train = df_toy[df_toy[\"index\"] % 2 == 0]\n",
    "df_test = df_toy[df_toy[\"index\"] % 2 == 1]"
   ]
  },
  {
   "cell_type": "code",
   "execution_count": 48,
   "metadata": {},
   "outputs": [
    {
     "name": "stderr",
     "output_type": "stream",
     "text": [
      "/tmp/ipykernel_997/1673710798.py:2: SettingWithCopyWarning: \n",
      "A value is trying to be set on a copy of a slice from a DataFrame.\n",
      "Try using .loc[row_indexer,col_indexer] = value instead\n",
      "\n",
      "See the caveats in the documentation: https://pandas.pydata.org/pandas-docs/stable/user_guide/indexing.html#returning-a-view-versus-a-copy\n",
      "  df_train[\"label\"] = df_train[\"label\"].apply(lambda x: 0 if x == \"Contr\" else 1)\n",
      "/tmp/ipykernel_997/1673710798.py:3: SettingWithCopyWarning: \n",
      "A value is trying to be set on a copy of a slice from a DataFrame.\n",
      "Try using .loc[row_indexer,col_indexer] = value instead\n",
      "\n",
      "See the caveats in the documentation: https://pandas.pydata.org/pandas-docs/stable/user_guide/indexing.html#returning-a-view-versus-a-copy\n",
      "  df_test[\"label\"] = df_test[\"label\"].apply(lambda x: 0 if x == \"Contr\" else 1)\n"
     ]
    }
   ],
   "source": [
    "# Binarise the labels, \"control\" is 0 and all the othres are 1\n",
    "df_train[\"label\"] = df_train[\"label\"].apply(lambda x: 0 if x == \"Contr\" else 1)\n",
    "df_test[\"label\"] = df_test[\"label\"].apply(lambda x: 0 if x == \"Contr\" else 1)\n"
   ]
  },
  {
   "cell_type": "code",
   "execution_count": 49,
   "metadata": {},
   "outputs": [
    {
     "name": "stdout",
     "output_type": "stream",
     "text": [
      "label\n",
      "1    15464\n",
      "0     4360\n",
      "Name: count, dtype: int64\n"
     ]
    }
   ],
   "source": [
    "# Print value counts for each label\n",
    "print(df_train[\"label\"].value_counts())"
   ]
  },
  {
   "cell_type": "code",
   "execution_count": 50,
   "metadata": {},
   "outputs": [
    {
     "name": "stdout",
     "output_type": "stream",
     "text": [
      "Training...\n",
      "Predicting...\n"
     ]
    }
   ],
   "source": [
    "# Train a RandomForest model\n",
    "from sklearn.ensemble import RandomForestClassifier\n",
    "\n",
    "X_train = np.vstack(df_train[\"mfccs\"].values)\n",
    "y_train = df_train[\"label\"].values\n",
    "\n",
    "X_test = np.vstack(df_test[\"mfccs\"].values)\n",
    "y_test = df_test[\"label\"].values\n",
    "\n",
    "print(\"Training...\")\n",
    "\n",
    "clf = RandomForestClassifier(n_estimators=100, max_depth=10, random_state=42)\n",
    "clf.fit(X_train, y_train)\n",
    "\n",
    "print(\"Predicting...\")\n",
    "\n",
    "# Get the predictions\n",
    "y_pred_train = clf.predict(X_train)\n",
    "y_pred_test = clf.predict(X_test)\n",
    "\n"
   ]
  },
  {
   "cell_type": "code",
   "execution_count": 51,
   "metadata": {},
   "outputs": [
    {
     "name": "stdout",
     "output_type": "stream",
     "text": [
      "Training accuracy:  0.8328793381759484\n",
      "Test accuracy:  0.7460881202388305\n"
     ]
    }
   ],
   "source": [
    "# Get the accuracy\n",
    "from sklearn.metrics import accuracy_score\n",
    "# print training accuracy\n",
    "print(\"Training accuracy: \", accuracy_score(y_train, y_pred_train))\n",
    "# print test accuracy\n",
    "print(\"Test accuracy: \", accuracy_score(y_test, y_pred_test))"
   ]
  },
  {
   "cell_type": "markdown",
   "metadata": {},
   "source": [
    "# KALMAN trajectories\n",
    "\n",
    "The file .pkl containes the information needed to calculate the KALMAN trajectories and the trajectories themselves."
   ]
  },
  {
   "cell_type": "code",
   "execution_count": 52,
   "metadata": {},
   "outputs": [],
   "source": [
    "import pandas as pd\n",
    "import pickle\n",
    "import os\n",
    "\n",
    "\n",
    "# Read all .pkl files under /data/data_final/Audios\n",
    "path_to_audios = 'data/data_final/Audios'\n",
    "audios = []\n",
    "for root, dirs, files in os.walk(path_to_audios):\n",
    "    for name in files:\n",
    "        if name.endswith('.pkl'):\n",
    "            audios.append(os.path.join(root, name))\n",
    "\n",
    "# Read all the .pkl files\n",
    "karma_structure = {\"audio\": None, \n",
    "           \"Formants\": {\"F1\": {\"mean\": None, \"std\": None, \"bw\": None}, \n",
    "                        \"F2\": {\"mean\": None, \"std\": None, \"bw\": None}, \n",
    "                        \"F3\": {\"mean\": None, \"std\": None, \"bw\": None}},\n",
    "            \"AntiFormants\": {\"AntiF1\": {\"mean\": None, \"std\": None, \"bw\": None},\n",
    "                            \"AntiF2\": {\"mean\": None, \"std\": None, \"bw\": None}},\n",
    "        }"
   ]
  },
  {
   "cell_type": "code",
   "execution_count": 56,
   "metadata": {},
   "outputs": [
    {
     "name": "stdout",
     "output_type": "stream",
     "text": [
      "dict_keys(['F1', 'F2', 'F3'])\n",
      "dict_keys(['mean', 'std', 'bw'])\n",
      "dict_keys(['AntiF1', 'AntiF2'])\n",
      "dict_keys(['peCoeff', 'windowType', 'windowSizems', 'windowOverlap', 'lpcOrder', 'zOrder', 'fs', 'cepOrder', 'cepType', 'algFlag'])\n"
     ]
    },
    {
     "data": {
      "image/png": "[encoded data removed]",
      "text/plain": [
       "<Figure size 640x480 with 1 Axes>"
      ]
     },
     "metadata": {},
     "output_type": "display_data"
    }
   ],
   "source": [
    "from matplotlib import pyplot as plt\n",
    "# check one pkl\n",
    "with open(audios[0], 'rb') as f:\n",
    "    data = pickle.load(f)\n",
    "\n",
    "# Access the normalised audio\n",
    "audio = data['audio']\n",
    "\n",
    "# plot it \n",
    "plt.plot(audio)\n",
    "\n",
    "# Access the formants\n",
    "formants = data['Formants']\n",
    "print(formants.keys())\n",
    "\n",
    "# acess the f1\n",
    "f1 = formants['F1']\n",
    "mean_f1 = f1['mean']\n",
    "var_f1 = f1['std']**2\n",
    "bw_f1 = f1['bw']\n",
    "print(f1.keys())\n",
    "\n",
    "# Access the anti-formants\n",
    "antiformants = data['AntiFormants']\n",
    "print(antiformants.keys())\n",
    "\n",
    "# access the params\n",
    "params = data['params']\n",
    "print(params.keys())"
   ]
  }
 ],
 "metadata": {
  "kernelspec": {
   "display_name": "base",
   "language": "python",
   "name": "python3"
  },
  "language_info": {
   "codemirror_mode": {
    "name": "ipython",
    "version": 3
   },
   "file_extension": ".py",
   "mimetype": "text/x-python",
   "name": "python",
   "nbconvert_exporter": "python",
   "pygments_lexer": "ipython3",
   "version": "3.11.4"
  }
 },
 "nbformat": 4,
 "nbformat_minor": 2
}
