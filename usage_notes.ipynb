{
 "cells": [
  {
   "cell_type": "code",
   "execution_count": 29,
   "metadata": {},
   "outputs": [],
   "source": [
    "# Imports\n",
    "\n",
    "import os\n",
    "import numpy as np\n",
    "import pandas as pd\n",
    "import librosa\n",
    "import librosa.display\n",
    "import matplotlib.pyplot as plt\n",
    "import IPython.display as ipd\n"
   ]
  },
  {
   "cell_type": "code",
   "execution_count": 30,
   "metadata": {},
   "outputs": [],
   "source": [
    "# Audio files are stored in the following directory:\n",
    "# data/data_final/audios/Contr\n",
    "# data/data_final/audios/FESS\n",
    "# data/data_final/audios/Sept\n",
    "# data/data_final/audios/Tonsill\n",
    "\n",
    "# Get all .wav audios from all the directories\n",
    "path_to_audios = 'data/data_final/audios'\n",
    "audios = []\n",
    "for root, dirs, files in os.walk(path_to_audios):\n",
    "    for name in files:\n",
    "        if name.endswith('.wav'):\n",
    "            audios.append(os.path.join(root, name))\n"
   ]
  },
  {
   "cell_type": "code",
   "execution_count": 31,
   "metadata": {},
   "outputs": [],
   "source": [
    "# The following code will load the audio files:\n",
    "def read_audio(path):\n",
    "    y, sr = librosa.load(path, sr=44100)\n",
    "    return y, sr\n",
    "\n",
    "df = pd.DataFrame(columns=['audiopath','audio_raw','label'])\n",
    "df['audiopath'] = audios\n",
    "# Get SR and audio in two columns\n",
    "df[['audio_raw', 'sr']] = df['audiopath'].apply(lambda x: pd.Series(read_audio(x)))\n",
    "df['label'] = df['audiopath'].apply(lambda x: x.split('/')[3])"
   ]
  },
  {
   "cell_type": "code",
   "execution_count": 32,
   "metadata": {},
   "outputs": [],
   "source": [
    "# Normalise the audios\n",
    "\n",
    "def normalize_audio(audio):\n",
    "    audio = audio / np.max(np.abs(audio))\n",
    "    return audio\n",
    "\n",
    "df['audio'] = df['audio_raw'].apply(lambda x: normalize_audio(x))"
   ]
  },
  {
   "cell_type": "code",
   "execution_count": 33,
   "metadata": {},
   "outputs": [],
   "source": [
    "# Get a new column with the session number extracted from the audio path\n",
    "df['session'] = df['audiopath'].apply(lambda x: x.split('/')[5])"
   ]
  },
  {
   "cell_type": "code",
   "execution_count": 34,
   "metadata": {},
   "outputs": [],
   "source": [
    "# Drop all rows which have session aeiou, or concatenateread or tests\n",
    "df = df[~df['session'].isin(['aeiou', 'concatenateread', 'tests'])]"
   ]
  },
  {
   "cell_type": "code",
   "execution_count": 35,
   "metadata": {},
   "outputs": [],
   "source": [
    "# Calculate mfccs\n",
    "def extract_mfcc_with_derivatives(\n",
    "       audio, sample_rate, frame_length_ms, n_mfcc=10\n",
    "    ):\n",
    "        \"\"\"\n",
    "        Extracts Mel-frequency cepstral coefficients (MFCCs) with their first and second derivatives from an audio signal.\n",
    "\n",
    "        Args:\n",
    "            audio (np.ndarray): The audio signal as a 1D numpy array.\n",
    "            sample_rate (int): The sample rate of the audio signal.\n",
    "            frame_length_ms (float): The length of the frames in milliseconds.\n",
    "            n_mfcc (int): The number of MFCCs to extract.\n",
    "\n",
    "        Returns:\n",
    "            np.ndarray: A 2D numpy array of shape (num_frames, num_features) containing the MFCCs and their derivatives.\n",
    "        \"\"\"\n",
    "        frame_length = int(\n",
    "            sample_rate * frame_length_ms * 1e-3\n",
    "        )  # Convert ms to samples\n",
    "        hop_length = int(frame_length / 2)  # 50% overlap\n",
    "        frames = librosa.util.frame(\n",
    "            audio, frame_length=frame_length, hop_length=hop_length\n",
    "        )\n",
    "\n",
    "        # Apply hanning windows\n",
    "        frames = frames * np.hanning(frame_length)[:, None]\n",
    "\n",
    "        # N_fft is the next number in power of 2 of the frame size\n",
    "        n_fft = 2 ** (int(np.log2(frames.shape[1])) + 1)\n",
    "\n",
    "        # Compute MFCC for each frame\n",
    "        mfccs = []\n",
    "        for frame in frames.T:\n",
    "            mfcc = librosa.feature.mfcc(\n",
    "                y=frame, sr=sample_rate, n_mfcc=n_mfcc, n_fft=n_fft\n",
    "            )\n",
    "            # Normalize the MFCCs\n",
    "            mfccs.append(mfcc.T)\n",
    "\n",
    "        mfccs = np.vstack(mfccs)\n",
    "\n",
    "        # Normalize the MFCCs\n",
    "        mfccs = (mfccs - np.mean(mfccs, axis=0)) / np.std(mfccs, axis=0)\n",
    "\n",
    "        # Compute derivatives\n",
    "        mfccs_delta = librosa.feature.delta(mfccs)\n",
    "        mfccs_delta2 = librosa.feature.delta(mfccs, order=2)\n",
    "\n",
    "        # Concatenate the features\n",
    "        mfcc_features = np.concatenate((mfccs, mfccs_delta, mfccs_delta2), axis=1)\n",
    "\n",
    "        return mfcc_features"
   ]
  },
  {
   "attachments": {
    "image.png": {
     "image/png": "[encoded data removed]"
    }
   },
   "cell_type": "markdown",
   "metadata": {},
   "source": [
    "## COMPUTING MFCCS\n",
    "\n",
    "Care, this requires time to compute. It took 11 min and 10.5 secs to compute in a computer with the following specs:\n",
    "\n",
    "![image.png](attachment:image.png)"
   ]
  },
  {
   "cell_type": "code",
   "execution_count": 40,
   "metadata": {},
   "outputs": [
    {
     "name": "stderr",
     "output_type": "stream",
     "text": [
      "/home/alexjorguer/miniconda3/lib/python3.11/site-packages/librosa/feature/spectral.py:2143: UserWarning: Empty filters detected in mel frequency basis. Some channels will produce empty responses. Try increasing your sampling rate (and fmax) or reducing n_mels.\n",
      "  mel_basis = filters.mel(sr=sr, n_fft=n_fft, **kwargs)\n",
      "/home/alexjorguer/miniconda3/lib/python3.11/site-packages/librosa/core/spectrum.py:257: UserWarning: n_fft=4096 is too large for input signal of length=1764\n",
      "  warnings.warn(\n",
      "/home/alexjorguer/miniconda3/lib/python3.11/site-packages/librosa/core/spectrum.py:257: UserWarning: n_fft=2048 is too large for input signal of length=1764\n",
      "  warnings.warn(\n",
      "/tmp/ipykernel_767/1647392553.py:5: SettingWithCopyWarning: \n",
      "A value is trying to be set on a copy of a slice from a DataFrame.\n",
      "Try using .loc[row_indexer,col_indexer] = value instead\n",
      "\n",
      "See the caveats in the documentation: https://pandas.pydata.org/pandas-docs/stable/user_guide/indexing.html#returning-a-view-versus-a-copy\n",
      "  df_first_session[\"mfccs\"] = df_first_session.apply(\n"
     ]
    }
   ],
   "source": [
    "# Select only the first session\n",
    "df_first_session = df[df['session'] == '1']\n",
    "\n",
    "# Calculate the MFCCs for the first session\n",
    "df_first_session[\"mfccs\"] = df_first_session.apply(\n",
    "                lambda x: extract_mfcc_with_derivatives(\n",
    "                    x[\"audio\"],\n",
    "                    x[\"sr\"],\n",
    "                    40,\n",
    "                    13,\n",
    "                ),\n",
    "                axis=1,\n",
    "            )"
   ]
  },
  {
   "cell_type": "code",
   "execution_count": 48,
   "metadata": {},
   "outputs": [],
   "source": [
    "# Explode the mfccs column\n",
    "df_first_session = df_first_session.explode('mfccs')\n"
   ]
  },
  {
   "cell_type": "code",
   "execution_count": 49,
   "metadata": {},
   "outputs": [
    {
     "data": {
      "text/html": [
       "<div>\n",
       "<style scoped>\n",
       "    .dataframe tbody tr th:only-of-type {\n",
       "        vertical-align: middle;\n",
       "    }\n",
       "\n",
       "    .dataframe tbody tr th {\n",
       "        vertical-align: top;\n",
       "    }\n",
       "\n",
       "    .dataframe thead th {\n",
       "        text-align: right;\n",
       "    }\n",
       "</style>\n",
       "<table border=\"1\" class=\"dataframe\">\n",
       "  <thead>\n",
       "    <tr style=\"text-align: right;\">\n",
       "      <th></th>\n",
       "      <th>audiopath</th>\n",
       "      <th>audio_raw</th>\n",
       "      <th>label</th>\n",
       "      <th>sr</th>\n",
       "      <th>audio</th>\n",
       "      <th>session</th>\n",
       "      <th>mfccs</th>\n",
       "    </tr>\n",
       "  </thead>\n",
       "  <tbody>\n",
       "    <tr>\n",
       "      <th>188</th>\n",
       "      <td>data/data_final/audios/fess/a1/1/Cens_ses1_a1_...</td>\n",
       "      <td>[0.007843018, 0.0079956055, 0.006011963, 0.004...</td>\n",
       "      <td>fess</td>\n",
       "      <td>44100</td>\n",
       "      <td>[0.039016243, 0.039775316, 0.029907394, 0.0229...</td>\n",
       "      <td>1</td>\n",
       "      <td>[-1.3873022307195646, 0.3625809969356039, 1.26...</td>\n",
       "    </tr>\n",
       "    <tr>\n",
       "      <th>188</th>\n",
       "      <td>data/data_final/audios/fess/a1/1/Cens_ses1_a1_...</td>\n",
       "      <td>[0.007843018, 0.0079956055, 0.006011963, 0.004...</td>\n",
       "      <td>fess</td>\n",
       "      <td>44100</td>\n",
       "      <td>[0.039016243, 0.039775316, 0.029907394, 0.0229...</td>\n",
       "      <td>1</td>\n",
       "      <td>[0.4984080324676768, -1.4367795794907738, -1.4...</td>\n",
       "    </tr>\n",
       "    <tr>\n",
       "      <th>188</th>\n",
       "      <td>data/data_final/audios/fess/a1/1/Cens_ses1_a1_...</td>\n",
       "      <td>[0.007843018, 0.0079956055, 0.006011963, 0.004...</td>\n",
       "      <td>fess</td>\n",
       "      <td>44100</td>\n",
       "      <td>[0.039016243, 0.039775316, 0.029907394, 0.0229...</td>\n",
       "      <td>1</td>\n",
       "      <td>[1.1626912457385703, -1.9145325567929363, -0.7...</td>\n",
       "    </tr>\n",
       "    <tr>\n",
       "      <th>188</th>\n",
       "      <td>data/data_final/audios/fess/a1/1/Cens_ses1_a1_...</td>\n",
       "      <td>[0.007843018, 0.0079956055, 0.006011963, 0.004...</td>\n",
       "      <td>fess</td>\n",
       "      <td>44100</td>\n",
       "      <td>[0.039016243, 0.039775316, 0.029907394, 0.0229...</td>\n",
       "      <td>1</td>\n",
       "      <td>[-0.5930672160512358, 1.2830012644437674, 0.81...</td>\n",
       "    </tr>\n",
       "    <tr>\n",
       "      <th>188</th>\n",
       "      <td>data/data_final/audios/fess/a1/1/Cens_ses1_a1_...</td>\n",
       "      <td>[0.007843018, 0.0079956055, 0.006011963, 0.004...</td>\n",
       "      <td>fess</td>\n",
       "      <td>44100</td>\n",
       "      <td>[0.039016243, 0.039775316, 0.029907394, 0.0229...</td>\n",
       "      <td>1</td>\n",
       "      <td>[0.1756992542014915, -0.4399979646318356, 0.61...</td>\n",
       "    </tr>\n",
       "    <tr>\n",
       "      <th>...</th>\n",
       "      <td>...</td>\n",
       "      <td>...</td>\n",
       "      <td>...</td>\n",
       "      <td>...</td>\n",
       "      <td>...</td>\n",
       "      <td>...</td>\n",
       "      <td>...</td>\n",
       "    </tr>\n",
       "    <tr>\n",
       "      <th>4696</th>\n",
       "      <td>data/data_final/audios/septo/brasero/1/Sept_se...</td>\n",
       "      <td>[0.00036621094, 0.00012207031, -0.00021362305,...</td>\n",
       "      <td>septo</td>\n",
       "      <td>44100</td>\n",
       "      <td>[0.0020678958, 0.0006892986, -0.0012062726, -0...</td>\n",
       "      <td>1</td>\n",
       "      <td>[-0.6595519609962168, 0.7371940203666035, 0.48...</td>\n",
       "    </tr>\n",
       "    <tr>\n",
       "      <th>4696</th>\n",
       "      <td>data/data_final/audios/septo/brasero/1/Sept_se...</td>\n",
       "      <td>[0.00036621094, 0.00012207031, -0.00021362305,...</td>\n",
       "      <td>septo</td>\n",
       "      <td>44100</td>\n",
       "      <td>[0.0020678958, 0.0006892986, -0.0012062726, -0...</td>\n",
       "      <td>1</td>\n",
       "      <td>[-1.7225856162936481, 0.5859073776442701, 1.59...</td>\n",
       "    </tr>\n",
       "    <tr>\n",
       "      <th>4696</th>\n",
       "      <td>data/data_final/audios/septo/brasero/1/Sept_se...</td>\n",
       "      <td>[0.00036621094, 0.00012207031, -0.00021362305,...</td>\n",
       "      <td>septo</td>\n",
       "      <td>44100</td>\n",
       "      <td>[0.0020678958, 0.0006892986, -0.0012062726, -0...</td>\n",
       "      <td>1</td>\n",
       "      <td>[-0.237760887935658, -0.3238344283040434, 0.43...</td>\n",
       "    </tr>\n",
       "    <tr>\n",
       "      <th>4696</th>\n",
       "      <td>data/data_final/audios/septo/brasero/1/Sept_se...</td>\n",
       "      <td>[0.00036621094, 0.00012207031, -0.00021362305,...</td>\n",
       "      <td>septo</td>\n",
       "      <td>44100</td>\n",
       "      <td>[0.0020678958, 0.0006892986, -0.0012062726, -0...</td>\n",
       "      <td>1</td>\n",
       "      <td>[-0.13617099069277824, -0.4622660232479788, 0....</td>\n",
       "    </tr>\n",
       "    <tr>\n",
       "      <th>4696</th>\n",
       "      <td>data/data_final/audios/septo/brasero/1/Sept_se...</td>\n",
       "      <td>[0.00036621094, 0.00012207031, -0.00021362305,...</td>\n",
       "      <td>septo</td>\n",
       "      <td>44100</td>\n",
       "      <td>[0.0020678958, 0.0006892986, -0.0012062726, -0...</td>\n",
       "      <td>1</td>\n",
       "      <td>[-1.008816114970279, 0.20863728427653583, 0.43...</td>\n",
       "    </tr>\n",
       "  </tbody>\n",
       "</table>\n",
       "<p>1389892 rows × 7 columns</p>\n",
       "</div>"
      ],
      "text/plain": [
       "                                              audiopath  \\\n",
       "188   data/data_final/audios/fess/a1/1/Cens_ses1_a1_...   \n",
       "188   data/data_final/audios/fess/a1/1/Cens_ses1_a1_...   \n",
       "188   data/data_final/audios/fess/a1/1/Cens_ses1_a1_...   \n",
       "188   data/data_final/audios/fess/a1/1/Cens_ses1_a1_...   \n",
       "188   data/data_final/audios/fess/a1/1/Cens_ses1_a1_...   \n",
       "...                                                 ...   \n",
       "4696  data/data_final/audios/septo/brasero/1/Sept_se...   \n",
       "4696  data/data_final/audios/septo/brasero/1/Sept_se...   \n",
       "4696  data/data_final/audios/septo/brasero/1/Sept_se...   \n",
       "4696  data/data_final/audios/septo/brasero/1/Sept_se...   \n",
       "4696  data/data_final/audios/septo/brasero/1/Sept_se...   \n",
       "\n",
       "                                              audio_raw  label     sr  \\\n",
       "188   [0.007843018, 0.0079956055, 0.006011963, 0.004...   fess  44100   \n",
       "188   [0.007843018, 0.0079956055, 0.006011963, 0.004...   fess  44100   \n",
       "188   [0.007843018, 0.0079956055, 0.006011963, 0.004...   fess  44100   \n",
       "188   [0.007843018, 0.0079956055, 0.006011963, 0.004...   fess  44100   \n",
       "188   [0.007843018, 0.0079956055, 0.006011963, 0.004...   fess  44100   \n",
       "...                                                 ...    ...    ...   \n",
       "4696  [0.00036621094, 0.00012207031, -0.00021362305,...  septo  44100   \n",
       "4696  [0.00036621094, 0.00012207031, -0.00021362305,...  septo  44100   \n",
       "4696  [0.00036621094, 0.00012207031, -0.00021362305,...  septo  44100   \n",
       "4696  [0.00036621094, 0.00012207031, -0.00021362305,...  septo  44100   \n",
       "4696  [0.00036621094, 0.00012207031, -0.00021362305,...  septo  44100   \n",
       "\n",
       "                                                  audio session  \\\n",
       "188   [0.039016243, 0.039775316, 0.029907394, 0.0229...       1   \n",
       "188   [0.039016243, 0.039775316, 0.029907394, 0.0229...       1   \n",
       "188   [0.039016243, 0.039775316, 0.029907394, 0.0229...       1   \n",
       "188   [0.039016243, 0.039775316, 0.029907394, 0.0229...       1   \n",
       "188   [0.039016243, 0.039775316, 0.029907394, 0.0229...       1   \n",
       "...                                                 ...     ...   \n",
       "4696  [0.0020678958, 0.0006892986, -0.0012062726, -0...       1   \n",
       "4696  [0.0020678958, 0.0006892986, -0.0012062726, -0...       1   \n",
       "4696  [0.0020678958, 0.0006892986, -0.0012062726, -0...       1   \n",
       "4696  [0.0020678958, 0.0006892986, -0.0012062726, -0...       1   \n",
       "4696  [0.0020678958, 0.0006892986, -0.0012062726, -0...       1   \n",
       "\n",
       "                                                  mfccs  \n",
       "188   [-1.3873022307195646, 0.3625809969356039, 1.26...  \n",
       "188   [0.4984080324676768, -1.4367795794907738, -1.4...  \n",
       "188   [1.1626912457385703, -1.9145325567929363, -0.7...  \n",
       "188   [-0.5930672160512358, 1.2830012644437674, 0.81...  \n",
       "188   [0.1756992542014915, -0.4399979646318356, 0.61...  \n",
       "...                                                 ...  \n",
       "4696  [-0.6595519609962168, 0.7371940203666035, 0.48...  \n",
       "4696  [-1.7225856162936481, 0.5859073776442701, 1.59...  \n",
       "4696  [-0.237760887935658, -0.3238344283040434, 0.43...  \n",
       "4696  [-0.13617099069277824, -0.4622660232479788, 0....  \n",
       "4696  [-1.008816114970279, 0.20863728427653583, 0.43...  \n",
       "\n",
       "[1389892 rows x 7 columns]"
      ]
     },
     "execution_count": 49,
     "metadata": {},
     "output_type": "execute_result"
    }
   ],
   "source": [
    "df_first_session"
   ]
  },
  {
   "cell_type": "markdown",
   "metadata": {},
   "source": [
    "## Simple classifier\n",
    "\n",
    "Let us generate a toy example where we want to distinguish control vs patients."
   ]
  },
  {
   "cell_type": "code",
   "execution_count": 70,
   "metadata": {},
   "outputs": [],
   "source": [
    "# First, get only the interesting columns: \"mfccs\", \"label\" and the index with is the id\n",
    "df_toy = df_first_session[[\"mfccs\", \"label\"]].reset_index()"
   ]
  },
  {
   "cell_type": "code",
   "execution_count": 71,
   "metadata": {},
   "outputs": [],
   "source": [
    "# Index column is the patient identification, hence, split into train and test based on this column so the same patient is not in both\n",
    "df_train = df_toy[df_toy[\"index\"] % 2 == 0]\n",
    "df_test = df_toy[df_toy[\"index\"] % 2 == 1]"
   ]
  },
  {
   "cell_type": "code",
   "execution_count": 72,
   "metadata": {},
   "outputs": [
    {
     "name": "stderr",
     "output_type": "stream",
     "text": [
      "/tmp/ipykernel_767/278746171.py:2: SettingWithCopyWarning: \n",
      "A value is trying to be set on a copy of a slice from a DataFrame.\n",
      "Try using .loc[row_indexer,col_indexer] = value instead\n",
      "\n",
      "See the caveats in the documentation: https://pandas.pydata.org/pandas-docs/stable/user_guide/indexing.html#returning-a-view-versus-a-copy\n",
      "  df_train[\"label\"] = df_train[\"label\"].apply(lambda x: 0 if x == \"control\" else 1)\n",
      "/tmp/ipykernel_767/278746171.py:3: SettingWithCopyWarning: \n",
      "A value is trying to be set on a copy of a slice from a DataFrame.\n",
      "Try using .loc[row_indexer,col_indexer] = value instead\n",
      "\n",
      "See the caveats in the documentation: https://pandas.pydata.org/pandas-docs/stable/user_guide/indexing.html#returning-a-view-versus-a-copy\n",
      "  df_test[\"label\"] = df_test[\"label\"].apply(lambda x: 0 if x == \"control\" else 1)\n"
     ]
    }
   ],
   "source": [
    "# Binarise the labels, \"control\" is 0 and all the othres are 1\n",
    "df_train[\"label\"] = df_train[\"label\"].apply(lambda x: 0 if x == \"control\" else 1)\n",
    "df_test[\"label\"] = df_test[\"label\"].apply(lambda x: 0 if x == \"control\" else 1)\n"
   ]
  },
  {
   "cell_type": "code",
   "execution_count": 74,
   "metadata": {},
   "outputs": [
    {
     "name": "stdout",
     "output_type": "stream",
     "text": [
      "label\n",
      "1    456996\n",
      "0    218984\n",
      "Name: count, dtype: int64\n"
     ]
    }
   ],
   "source": [
    "# Print value counts for each label\n",
    "print(df_train[\"label\"].value_counts())"
   ]
  },
  {
   "cell_type": "code",
   "execution_count": 75,
   "metadata": {},
   "outputs": [
    {
     "name": "stdout",
     "output_type": "stream",
     "text": [
      "Training...\n",
      "Predicting...\n"
     ]
    }
   ],
   "source": [
    "# Train a RandomForest model\n",
    "from sklearn.ensemble import RandomForestClassifier\n",
    "\n",
    "X_train = np.vstack(df_train[\"mfccs\"].values)\n",
    "y_train = df_train[\"label\"].values\n",
    "\n",
    "X_test = np.vstack(df_test[\"mfccs\"].values)\n",
    "y_test = df_test[\"label\"].values\n",
    "\n",
    "print(\"Training...\")\n",
    "\n",
    "clf = RandomForestClassifier(n_estimators=100, max_depth=10, random_state=42)\n",
    "clf.fit(X_train, y_train)\n",
    "\n",
    "print(\"Predicting...\")\n",
    "\n",
    "# Get the predictions\n",
    "y_pred_train = clf.predict(X_train)\n",
    "y_pred_test = clf.predict(X_test)\n",
    "\n"
   ]
  },
  {
   "cell_type": "code",
   "execution_count": 76,
   "metadata": {},
   "outputs": [
    {
     "name": "stdout",
     "output_type": "stream",
     "text": [
      "Training accuracy:  0.6935086836888665\n",
      "Test accuracy:  0.6698430618899809\n"
     ]
    }
   ],
   "source": [
    "# Get the accuracy\n",
    "from sklearn.metrics import accuracy_score\n",
    "# print training accuracy\n",
    "print(\"Training accuracy: \", accuracy_score(y_train, y_pred_train))\n",
    "# print test accuracy\n",
    "print(\"Test accuracy: \", accuracy_score(y_test, y_pred_test))"
   ]
  },
  {
   "cell_type": "markdown",
   "metadata": {},
   "source": [
    "# KALMAN trajectories\n",
    "\n",
    "The file .mat containes the information needed to calculate the KALMAN trajectories and the trajectories themselves."
   ]
  },
  {
   "cell_type": "code",
   "execution_count": 5,
   "metadata": {},
   "outputs": [],
   "source": [
    "# Read a mat file\n",
    "import os\n",
    "import scipy.io\n",
    "\n",
    "def load_mat_file(mat_file_path):\n",
    "    # Load the MATLAB file\n",
    "    mat_data = scipy.io.loadmat(mat_file_path)\n",
    "\n",
    "    # Extract the 'data' dictionary from the loaded MATLAB file\n",
    "    data = mat_data['data'][0, 0]\n",
    "\n",
    "    # Create a Python dictionary from the MATLAB 'data' dictionary\n",
    "    result_dict = {\n",
    "        'params': data['params'][0],\n",
    "        'x': data['x'],\n",
    "        'x_est': data['x_est'],  # f1, f2, f3, antif1, antif2 media de todos ellos\n",
    "        'x_errVar': data['x_errVar'] # \n",
    "    }\n",
    "\n",
    "    return result_dict\n",
    "\n",
    "# Load all .mat files under data/data_final/audios\n",
    "path_to_mat_files = 'data/data_final/audios'\n",
    "mat_files = []\n",
    "for root, dirs, files in os.walk(path_to_mat_files):\n",
    "    for name in files:\n",
    "        if name.endswith('.mat'):\n",
    "            mat_files.append(os.path.join(root, name))\n",
    "\n",
    "# Get the data from the mat files\n",
    "mat_data = []\n",
    "for mat_file in mat_files:\n",
    "    mat_data.append(load_mat_file(mat_file))\n",
    "\n",
    "\n",
    "# Modify result_dict to a more easy to use format\n",
    "\n",
    "\n",
    "\n"
   ]
  },
  {
   "cell_type": "code",
   "execution_count": 100,
   "metadata": {},
   "outputs": [],
   "source": [
    "# Each mat_file['x_errVar'].shape is (10, 10, 715). The 10 are: 3 formants, 2 antiformants, 5 BWs. The 715 are the number of frames\n",
    "\n",
    "# split each matrix into a dictionary with the formants, antiformants and BWs as keys\n",
    "var_for_each_file = []\n",
    "for mat_file in mat_data:\n",
    "    x_errVar_dict = {}\n",
    "    x_errVar_dict[\"Formants\"] = mat_file['x_errVar'][:3, :3] # Convariance matrix\n",
    "    x_errVar_dict[\"AntiFormants\"] = mat_file['x_errVar'][3:5, 3:5,] # Convariance matrix\n",
    "    x_errVar_dict[\"BWs\"] = mat_file['x_errVar'][5:, 5:, :] # Convariance matrix\n",
    "    var_for_each_file.append(x_errVar_dict)"
   ]
  },
  {
   "cell_type": "code",
   "execution_count": 107,
   "metadata": {},
   "outputs": [],
   "source": [
    "# Each mat_file[\"x_est\"].shape is (10, 715). There are: 3 formants, 2 antiformants, 5 BWs. The 715 are the number of frames\n",
    "\n",
    "# split each matrix into a dictionary with the formants, antiformants and BWs as keys\n",
    "est_for_each_file = []\n",
    "for mat_file in mat_data:\n",
    "    x_est_dict = {}\n",
    "    x_est_dict[\"Formants\"] = mat_file['x_est'][:3, :] # Convariance matrix\n",
    "    x_est_dict[\"AntiFormants\"] = mat_file['x_est'][3:5, :] # Convariance matrix\n",
    "    x_est_dict[\"BWs\"] = mat_file['x_est'][5:, :] # Convariance matrix\n",
    "    est_for_each_file.append(x_est_dict)"
   ]
  },
  {
   "cell_type": "code",
   "execution_count": 111,
   "metadata": {},
   "outputs": [],
   "source": [
    "# Generate a final dictionary where for each mat_file. This dictionary have 3 keys:\n",
    "# 1. \"input\": is mat_file[\"x\"] which is a 20212,1 audio signal\n",
    "# 2. \"output_mean\": is each element of x_est_dict[\"Formants\"], x_est_dict[\"AntiFormants\"] and x_est_dict[\"BWs\"]\n",
    "# 3. \"output_covar\": is each element of x_errVar_dict[\"Formants\"], x_errVar_dict[\"AntiFormants\"] and x_errVar_dict[\"BWs\"]\n",
    "\n",
    "final_dict = []\n",
    "for i in range(len(mat_data)):\n",
    "    final_dict.append({\"input\": mat_data[i][\"x\"], \"output_mean\": est_for_each_file[i], \"output_covar\": var_for_each_file[i]})"
   ]
  },
  {
   "cell_type": "code",
   "execution_count": 117,
   "metadata": {},
   "outputs": [],
   "source": [
    "# subtitute each .mat file with the final dictionary in pkl format\n",
    "import pickle\n",
    "for i in range(len(mat_files)):\n",
    "    with open(mat_files[i].replace(\".mat\", \".pkl\"), 'wb') as f:\n",
    "        pickle.dump(final_dict[i], f)"
   ]
  },
  {
   "cell_type": "code",
   "execution_count": 6,
   "metadata": {},
   "outputs": [
    {
     "data": {
      "text/plain": [
       "(2, 1241)"
      ]
     },
     "execution_count": 6,
     "metadata": {},
     "output_type": "execute_result"
    }
   ],
   "source": [
    "# Read one pickle file and explain the structure\n",
    "import pickle\n",
    "with open(mat_files[1].replace(\".mat\", \".pkl\"), 'rb') as f:\n",
    "    data = pickle.load(f)\n",
    "\n",
    "# data is a dictionary with 3 keys: \"input\", \"output_mean\" and \"output_covar\"\n",
    "# \"input\" is a 20212,1 audio signal\n",
    "# \"output_mean\" is a dictionary with 3 keys: \"Formants\", \"AntiFormants\" and \"BWs\"\n",
    "# \"output_covar\" is a dictionary with 3 keys: \"Formants\", \"AntiFormants\" and \"BWs\"\n",
    "# For output_mean and output_covar, each key is a matrix with the following shape:\n",
    "# \"Formants\" is a 3, 715 matrix\n",
    "# \"AntiFormants\" is a 2, 2, 715 matrix\n",
    "# \"BWs\" is a 5, 715 matrix (corresponding the 3 formants and 2 antiformants)\n",
    "\n",
    "data[\"output_mean\"][\"AntiFormants\"].shape\n"
   ]
  },
  {
   "cell_type": "code",
   "execution_count": 7,
   "metadata": {},
   "outputs": [],
   "source": [
    "# Remove all .mat files\n",
    "import os\n",
    "for mat_file in mat_files:\n",
    "    os.remove(mat_file)"
   ]
  },
  {
   "cell_type": "code",
   "execution_count": null,
   "metadata": {},
   "outputs": [],
   "source": []
  }
 ],
 "metadata": {
  "kernelspec": {
   "display_name": "base",
   "language": "python",
   "name": "python3"
  },
  "language_info": {
   "codemirror_mode": {
    "name": "ipython",
    "version": 3
   },
   "file_extension": ".py",
   "mimetype": "text/x-python",
   "name": "python",
   "nbconvert_exporter": "python",
   "pygments_lexer": "ipython3",
   "version": "3.11.4"
  }
 },
 "nbformat": 4,
 "nbformat_minor": 2
}
