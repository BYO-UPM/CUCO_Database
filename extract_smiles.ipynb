{
 "cells": [
  {
   "cell_type": "code",
   "execution_count": 3,
   "metadata": {},
   "outputs": [
    {
     "name": "stdout",
     "output_type": "stream",
     "text": [
      "                                           audiopath  \\\n",
      "0  data/data_final/Audios/Tonsill/U/3/Tonsill_ses...   \n",
      "1  data/data_final/Audios/Contr/A3/1/Contr_ses1_a...   \n",
      "2  data/data_final/Audios/Sept/Brasero/2/Sept_ses...   \n",
      "3  data/data_final/Audios/Sept/Brasero/1/Sept_ses...   \n",
      "4  data/data_final/Audios/Sept/Dia/2/Sept_ses2_di...   \n",
      "\n",
      "                                           audio_raw     sr    label  \\\n",
      "0  [-0.10549927, -0.10662842, -0.111968994, -0.11...  44100  Tonsill   \n",
      "1  [-0.00045776367, -0.004211426, -0.0067749023, ...  44100    Contr   \n",
      "2  [-0.0008239746, -0.00088500977, -0.0008239746,...  44100     Sept   \n",
      "3  [0.0026855469, 0.003540039, 0.0024719238, 0.00...  44100     Sept   \n",
      "4  [0.00024414062, 0.0013122559, 0.0012512207, 0....  44100     Sept   \n",
      "\n",
      "                                            features  \n",
      "0  [0.46012223, 0.0, 0.7375, 1.2959145, 1.405374,...  \n",
      "1  [0.26694196, 0.03468208, 0.9653179, 0.6284402,...  \n",
      "2  [3.3922262, 0.12658228, 0.4841772, 0.77032125,...  \n",
      "3  [2.6667604, 0.18650794, 0.5714286, 0.68928903,...  \n",
      "4  [2.905682, 0.30107528, 0.2204301, 0.49050027, ...  \n"
     ]
    }
   ],
   "source": [
    "import os\n",
    "import random\n",
    "import pandas as pd\n",
    "import librosa\n",
    "import opensmile\n",
    "\n",
    "# Path to audio files\n",
    "path_to_audios = 'data/data_final/Audios'\n",
    "\n",
    "# Collecting all .wav audio files\n",
    "audios = []\n",
    "for root, dirs, files in os.walk(path_to_audios):\n",
    "    for name in files:\n",
    "        if name.endswith('.wav'):\n",
    "            audios.append(os.path.join(root, name))\n",
    "\n",
    "# Select 10 random audio files\n",
    "random_audios = random.sample(audios, 10)\n",
    "\n",
    "# Function to read audio\n",
    "def read_audio(path):\n",
    "    y, sr = librosa.load(path, sr=44100)\n",
    "    return y, sr\n",
    "\n",
    "# Creating a DataFrame to hold audio data and features\n",
    "df = pd.DataFrame(columns=['audiopath', 'audio_raw', 'sr', 'label'])\n",
    "df['audiopath'] = random_audios\n",
    "\n",
    "# Get audio data and sample rate\n",
    "df[['audio_raw', 'sr']] = df['audiopath'].apply(lambda x: pd.Series(read_audio(x)))\n",
    "df['label'] = df['audiopath'].apply(lambda x: x.split('/')[3])\n",
    "\n",
    "# Initialize openSMILE feature extractor\n",
    "smile = opensmile.Smile(\n",
    "    feature_set=opensmile.FeatureSet.ComParE_2016,\n",
    "    feature_level=opensmile.FeatureLevel.Functionals,\n",
    ")\n",
    "\n",
    "# Function to extract openSMILE features\n",
    "def extract_features(audio, sr):\n",
    "    result = smile.process_signal(audio, sr)\n",
    "    return result.values.flatten()\n",
    "\n",
    "# Extract features for each audio file and store in DataFrame\n",
    "df['features'] = df.apply(lambda row: extract_features(row['audio_raw'], row['sr']), axis=1)\n",
    "\n",
    "# Display the DataFrame with extracted features\n",
    "print(df.head())\n",
    "\n",
    "# Save the DataFrame to a CSV file if needed\n",
    "# df.to_csv('audio_features.csv', index=False)\n"
   ]
  },
  {
   "cell_type": "code",
   "execution_count": 5,
   "metadata": {},
   "outputs": [
    {
     "data": {
      "text/plain": [
       "(6373,)"
      ]
     },
     "execution_count": 5,
     "metadata": {},
     "output_type": "execute_result"
    }
   ],
   "source": [
    "df['features'][0].shape"
   ]
  },
  {
   "cell_type": "code",
   "execution_count": null,
   "metadata": {},
   "outputs": [],
   "source": []
  }
 ],
 "metadata": {
  "language_info": {
   "name": "python"
  }
 },
 "nbformat": 4,
 "nbformat_minor": 2
}
